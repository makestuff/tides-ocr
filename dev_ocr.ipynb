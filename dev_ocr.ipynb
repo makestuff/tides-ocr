{
 "cells": [
  {
   "cell_type": "markdown",
   "id": "c1f62706",
   "metadata": {},
   "source": [
    "# Play with Jupyter and OpenCV\n",
    "Load an entire page, crop to get only the times & depths, detect all the symbols, and extract the columns of symbols:"
   ]
  },
  {
   "cell_type": "code",
   "execution_count": null,
   "id": "342bb1af-2d04-43cf-b0f5-68ccddffa5d2",
   "metadata": {},
   "outputs": [],
   "source": [
    "import tide_ocr\n",
    "\n",
    "tide_ocr.display_cropped(\"pages/20.png\", tide_ocr.EVEN_OFFSET)\n"
   ]
  },
  {
   "cell_type": "markdown",
   "id": "9de8b7ab",
   "metadata": {},
   "source": [
    "We can use OpenCV to extract bounding-boxes for all the symbols on a page, and using the knowledge that each image forms several columns of digits, we can extract a row of symbols and view them."
   ]
  },
  {
   "cell_type": "code",
   "execution_count": null,
   "id": "a7938446",
   "metadata": {},
   "outputs": [],
   "source": [
    "# View the symbols from rows 8, 9, 10 & 11 from the \"London Bridge\" column on page 20\n",
    "tide_ocr.display_column(\"pages/20.png\", tide_ocr.EVEN_OFFSET, 6, 4, 8)\n"
   ]
  },
  {
   "cell_type": "markdown",
   "id": "7979e294",
   "metadata": {},
   "source": [
    "Now we can read all 48 pages, building up a list of unique symbols. We expect to see only 0-9, \".\" and \"-\". This works by maintaining a list of symbols, and xor'ing each new symbol with all the known ones. An xor of two identical symbols will produce an all-black result. An xor of two almost-identical symbols will produce a result with fewer than 30 white pixels. This number 30 is kinda arbitrary. Set it lower and it will find more symbols that it thinks are distinct."
   ]
  },
  {
   "cell_type": "code",
   "execution_count": null,
   "id": "6f4f33fa",
   "metadata": {},
   "outputs": [],
   "source": [
    "ocr = tide_ocr.SimpleOCR(\"pages\", 0, 48)\n"
   ]
  },
  {
   "cell_type": "markdown",
   "id": "38ac8e4a",
   "metadata": {},
   "source": [
    "We can view the list of 64 distinct symbols it found. Clearly they are only 0-9, \".\" and \"-\", but slightly different (e.g a few pixels shaved off here and there)."
   ]
  },
  {
   "cell_type": "code",
   "execution_count": null,
   "id": "9500f1f6",
   "metadata": {},
   "outputs": [],
   "source": [
    "ocr.show_symbols()\n"
   ]
  },
  {
   "cell_type": "markdown",
   "id": "ffbee0b2",
   "metadata": {},
   "source": [
    "Even though the computer thinks there are 64 distinct symbols, there are clearly only 12: digits 0-9, \".\" and \"-\". We can visually identify them for the computer, providing a way to actually identify each symbol programmatically, we can parse all the entries in the tide table to get an array of seven columns, each containing ~1400 rows of (date, isDST, HW/LW, height):"
   ]
  },
  {
   "cell_type": "code",
   "execution_count": null,
   "id": "8c793af5",
   "metadata": {},
   "outputs": [],
   "source": [
    "results = ocr.parse_all(\n",
    "  \"034.\" + \"8956\" +\n",
    "  \"1270\" + \"5221\" +\n",
    "  \"3007\" + \"3628\" +\n",
    "  \"8693\" + \"6006\" +\n",
    "  \"9783\" + \"8539\" +\n",
    "  \"3610\" + \"8655\" +\n",
    "  \"3990\" + \"5962\" +\n",
    "  \"6296\" + \"289-\"\n",
    ")\n",
    "\n",
    "# Let's have a look at the data for London Bridge from page 20\n",
    "i = 0\n",
    "for dt, dst, id, h in results[6][583:610]:\n",
    "  print(f\"results[{i:02d}] = ({dt.strftime('%Y-%m-%dT%H:%M')}, {dst}, {id}, {h})\")\n",
    "  i = i + 1\n"
   ]
  },
  {
   "cell_type": "markdown",
   "id": "eeb95f6d",
   "metadata": {},
   "source": [
    "Now we can get a whole year of data for London Bridge, in human-readable format:"
   ]
  },
  {
   "cell_type": "code",
   "execution_count": null,
   "id": "ad7c682d",
   "metadata": {},
   "outputs": [],
   "source": [
    "old_date = \"\"\n",
    "old_height = 0.0\n",
    "deltas = []\n",
    "times = []\n",
    "old_dt = results[6][0][0]\n",
    "flood = [0] * 11  # 11 time buckets, each 10 mins wide\n",
    "ebb = [0] * 11\n",
    "longs = []\n",
    "for dt, dst, id, h in results[6]:\n",
    "  g = dt - old_dt\n",
    "  g = int(g.seconds/600)\n",
    "  if g != 0:\n",
    "    if id == \"HW\":\n",
    "      flood[g-32] = flood[g-32] + 1\n",
    "    else:\n",
    "      ebb[g-32] = ebb[g-32] + 1\n",
    "  old_dt = dt\n",
    "  d = dt.strftime(\"%Y-%m-%d:\")\n",
    "  t = dt.strftime(\"%H%M\")\n",
    "  if g == 42:\n",
    "    longs.append(d[:-1])\n",
    "  col1 = d if d != old_date else \"           \"\n",
    "  #print(\"  {} {} {}{}({}m, {:.1f}m, {})\".format(col1, id, t, \"*\" if dst else \"\", h, abs(h-old_height), g))\n",
    "  print(\"  {} {} {}{}({}m)\".format(col1, id, t, \"*\" if dst else \"\", h))\n",
    "  deltas.append(abs(h-old_height))\n",
    "  times.append(dt)\n",
    "  old_date = d\n",
    "  old_height = h\n"
   ]
  },
  {
   "cell_type": "markdown",
   "id": "1214bd9a",
   "metadata": {},
   "source": [
    "We can print the days with unusually long tides:"
   ]
  },
  {
   "cell_type": "code",
   "execution_count": null,
   "id": "8a90a234",
   "metadata": {},
   "outputs": [],
   "source": [
    "for tide in longs:\n",
    "  print(tide)\n"
   ]
  },
  {
   "cell_type": "markdown",
   "id": "f9d64829",
   "metadata": {},
   "source": [
    "We can plot how the tide range varies from week to week:"
   ]
  },
  {
   "cell_type": "code",
   "execution_count": null,
   "id": "053884ad",
   "metadata": {},
   "outputs": [],
   "source": [
    "from matplotlib import pyplot as plt, dates as pltdates\n",
    "\n",
    "days = pltdates.WeekdayLocator(byweekday=pltdates.TU)\n",
    "fig, ax = plt.subplots(1, figsize=(100, 15))\n",
    "#ax.plot(times[1:100], deltas[1:100])\n",
    "ax.plot(times[1:300], deltas[1:300])\n",
    "ax.xaxis.set_major_locator(days)\n",
    "# rotate and align the tick labels so they look better\n",
    "fig.autofmt_xdate()\n",
    "plt.show()\n"
   ]
  },
  {
   "cell_type": "markdown",
   "id": "7c5958e7",
   "metadata": {},
   "source": [
    "And we can see the distribution of durations, for flood and ebb:"
   ]
  },
  {
   "cell_type": "code",
   "execution_count": null,
   "id": "f53e6627",
   "metadata": {},
   "outputs": [],
   "source": [
    "import numpy as np\n",
    "\n",
    "ranges = [\n",
    "  \"5h20-5h29\",\n",
    "  \"5h30-5h39\",\n",
    "  \"5h40-5h49\",\n",
    "  \"5h50-5h59\",\n",
    "  \"6h00-6h09\",\n",
    "  \"6h10-6h19\",\n",
    "  \"6h20-6h29\",\n",
    "  \"6h30-6h39\",\n",
    "  \"6h40-6h49\",\n",
    "  \"6h50-6h59\",\n",
    "  \"7h00-7h09\"\n",
    "]\n",
    "fig, ax = plt.subplots(1, figsize=(20, 10))\n",
    "x_axis = np.arange(len(ranges))\n",
    "ax.bar(x_axis -0.2, flood, width=0.4, label=\"Flood\")\n",
    "ax.bar(x_axis +0.2, ebb, width=0.4, label = \"Ebb\")\n",
    "plt.xticks(x_axis, ranges)\n",
    "plt.legend()\n",
    "plt.show()\n"
   ]
  },
  {
   "cell_type": "markdown",
   "id": "f050a637",
   "metadata": {},
   "source": [
    "Also, we can produce 2D Javascript arrays for times and depths:"
   ]
  },
  {
   "cell_type": "code",
   "execution_count": null,
   "id": "a3074eb2",
   "metadata": {},
   "outputs": [],
   "source": [
    "import datetime\n",
    "\n",
    "num_results = min([len(r) for r in results])\n",
    "zerotime = datetime.datetime(tide_ocr.YEAR, 1, 1, tzinfo=datetime.timezone.utc)\n",
    "\n",
    "# 2136, 2159, 2207, 2223, 2257, 2326, 2346\n",
    "# ^^^ Times from 2021-12-31\n",
    "#  \n",
    "times = [2136, 2159, 2207, 2223, 2257, 2326, 2346]\n",
    "depths = [4.0,  4.4,  4.9,  5.4,  6.0,  6.7,  6.6]\n",
    "times = [[60*int(t/100) + t%100 - 24*60] for t in times]\n",
    "depths = [[d] for d in depths]\n",
    "for j in range(len(results)):\n",
    "    times[j].extend([int((results[j][i][0]-zerotime).total_seconds()/60) for i in range(num_results)])\n",
    "    depths[j].extend([results[j][i][3] for i in range(num_results)])\n",
    "print(f\"            const times = {times};\");\n",
    "print(f\"            const depths = {depths};\");\n"
   ]
  },
  {
   "cell_type": "markdown",
   "id": "45bcbcee",
   "metadata": {},
   "source": [
    "Finally, we can look for instances of unusually-low water at London Bridge, and unusually-high water at North Woolwich:"
   ]
  },
  {
   "cell_type": "code",
   "execution_count": null,
   "id": "6e7eeb40",
   "metadata": {},
   "outputs": [],
   "source": [
    "print(\"Unusually low, at London Bridge:\")\n",
    "for i in results[6]:\n",
    "  if i[3] < 0:\n",
    "    print(f\"  {i[0]}\")\n",
    "\n",
    "print(\"\\nUnusually high, at North Woolwich:\")\n",
    "for i in results[5]:\n",
    "  if i[3] > 7.4:\n",
    "    print(f\"  {i[0]}\")\n"
   ]
  }
 ],
 "metadata": {
  "kernelspec": {
   "display_name": "Python 3 (ipykernel)",
   "language": "python",
   "name": "python3"
  },
  "language_info": {
   "codemirror_mode": {
    "name": "ipython",
    "version": 3
   },
   "file_extension": ".py",
   "mimetype": "text/x-python",
   "name": "python",
   "nbconvert_exporter": "python",
   "pygments_lexer": "ipython3",
   "version": "3.9.2"
  }
 },
 "nbformat": 4,
 "nbformat_minor": 5
}
